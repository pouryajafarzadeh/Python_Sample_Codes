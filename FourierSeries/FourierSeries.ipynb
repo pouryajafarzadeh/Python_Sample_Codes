{
 "cells": [
  {
   "cell_type": "code",
   "execution_count": 1,
   "metadata": {},
   "outputs": [],
   "source": [
    "from matplotlib.pyplot import figure, show\n",
    "from numpy import arange, sin,cos, pi"
   ]
  },
  {
   "cell_type": "code",
   "execution_count": 2,
   "metadata": {},
   "outputs": [],
   "source": [
    "def square_func(x):\n",
    "    if (x>-1 and x<1):\n",
    "     return 1   \n",
    "    elif (x<=1 or x>=1):\n",
    "     return 0"
   ]
  },
  {
   "cell_type": "code",
   "execution_count": 3,
   "metadata": {},
   "outputs": [
    {
     "name": "stdout",
     "output_type": "stream",
     "text": [
      "Enter N ? 5\n"
     ]
    }
   ],
   "source": [
    "N = input('Enter N ? ')\n",
    "N = int(N)"
   ]
  },
  {
   "cell_type": "code",
   "execution_count": 5,
   "metadata": {},
   "outputs": [],
   "source": [
    "Summation = 400*[0.5] if N == 0 else 0\n",
    "if N >0:\n",
    "    Summation = 0\n",
    "    T_0=4\n",
    "    T_1=1\n",
    "\n",
    "\n",
    "\n",
    "    for k in range(-N,0):\n",
    "        Summation =  Summation + ((sin(pi*k/2))/(k*pi))*cos(k*2*pi*t/T_0)\n",
    "         \n",
    "    Summation = Summation + (2*T_1/T_0)\n",
    "\n",
    "    for k in range(1,N+1):\n",
    "        Summation =  Summation + ((sin(pi*k/2))/(k*pi))*cos(k*2*pi*t/T_0)\n"
   ]
  },
  {
   "cell_type": "code",
   "execution_count": null,
   "metadata": {},
   "outputs": [],
   "source": [
    "fig = figure(1)\n",
    "t = arange(-2,2, 0.01)\n",
    "ax1 = fig.add_subplot(111)"
   ]
  }
 ],
 "metadata": {
  "kernelspec": {
   "display_name": "Python 3",
   "language": "python",
   "name": "python3"
  },
  "language_info": {
   "codemirror_mode": {
    "name": "ipython",
    "version": 3
   },
   "file_extension": ".py",
   "mimetype": "text/x-python",
   "name": "python",
   "nbconvert_exporter": "python",
   "pygments_lexer": "ipython3",
   "version": "3.8.10"
  }
 },
 "nbformat": 4,
 "nbformat_minor": 4
}
